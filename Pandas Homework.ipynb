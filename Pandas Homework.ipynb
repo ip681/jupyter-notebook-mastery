{
 "cells": [
  {
   "cell_type": "code",
   "execution_count": null,
   "id": "0d553110",
   "metadata": {},
   "outputs": [],
   "source": []
  },
  {
   "cell_type": "code",
   "execution_count": 1,
   "id": "efa4708b",
   "metadata": {},
   "outputs": [],
   "source": [
    "import pandas as pd"
   ]
  },
  {
   "cell_type": "markdown",
   "id": "ffc4bc4d",
   "metadata": {},
   "source": [
    "### 1.\tCreating Series\n",
    "Write a program using Pandas that: <br>\n",
    "•\tRead count of the numbers (N) from the first line of the console <br>\n",
    "•\tRead as input a sequence of N integers, each integer on separate line <br>\n",
    "•\tTransform it into Pandas Series and prints them"
   ]
  },
  {
   "cell_type": "code",
   "execution_count": 11,
   "id": "fd579711",
   "metadata": {},
   "outputs": [],
   "source": [
    "# num_numbers = int(input())\n",
    "# numbers = []\n",
    "# for _ in range(num_numbers):\n",
    "#     number = int(input())\n",
    "#     numbers.append(number)\n",
    "\n",
    "# series = pd.Series(numbers)\n",
    "# print(series)"
   ]
  },
  {
   "cell_type": "markdown",
   "id": "a7fd34c1",
   "metadata": {},
   "source": [
    "### 2.\tDoubled Series\n",
    "Write a program using Pandas that: <br>\n",
    "•\tRead count of the numbers (N) from the first line of the console <br>\n",
    "•\tRead as input a sequence of N integers, each integer on separate line <br>\n",
    "•\tTransform it into Pandas Series <br>\n",
    "•\tMultiply all of the elements by 2 <br>\n",
    "•\tPrint the series\n"
   ]
  },
  {
   "cell_type": "code",
   "execution_count": 13,
   "id": "6253ee82",
   "metadata": {},
   "outputs": [],
   "source": [
    "# num_numbers = int(input())\n",
    "# numbers = []\n",
    "# for _ in range(num_numbers):\n",
    "#     number = int(input())\n",
    "#     numbers.append(number)\n",
    "\n",
    "# series = pd.Series(numbers)\n",
    "# series_multiplied = series * 2\n",
    "# print(series_multiplied)"
   ]
  },
  {
   "cell_type": "markdown",
   "id": "bd93ae9b",
   "metadata": {},
   "source": [
    "### 3.\tFind Duplicates\n",
    "Write a program using Pandas that: <br>\n",
    "•\tRead count of the numbers (N) from the first line of the console <br>\n",
    "•\tRead as input a sequence of N integers, each integer on separate line <br>\n",
    "•\tTransform it into Pandas Series <br>\n",
    "•\tPrint whether there are duplicates in the Series or not (True or False) <br>"
   ]
  },
  {
   "cell_type": "code",
   "execution_count": 8,
   "id": "679c013f",
   "metadata": {},
   "outputs": [],
   "source": [
    "# def find_duplicates(numbers):\n",
    "#     series = pd.Series(numbers)\n",
    "#     return series.duplicated().any()\n",
    "\n",
    "\n",
    "# num_numbers = int(input())\n",
    "# numbers = []\n",
    "# for _ in range(num_numbers):\n",
    "#     number = int(input())\n",
    "#     numbers.append(number)\n",
    "\n",
    "# result = find_duplicates(numbers)\n",
    "# print(result)"
   ]
  },
  {
   "cell_type": "markdown",
   "id": "b053b4dc",
   "metadata": {},
   "source": [
    "### 4.\tDrop Duplicates\n",
    "Write a program using Pandas that: <br>\n",
    "•\tRead count of the numbers (N) from the first line of the console <br>\n",
    "•\tRead as input a sequence of N integers, each integer on separate line <br>\n",
    "•\tTransform it into Pandas Series <br>\n",
    "•\tDrop any duplicates from the Series <br>\n",
    "•\tPrint the Series"
   ]
  },
  {
   "cell_type": "code",
   "execution_count": 17,
   "id": "b9fbee2a",
   "metadata": {},
   "outputs": [],
   "source": [
    "# num_numbers = int(input())\n",
    "# numbers = []\n",
    "# for _ in range(num_numbers):\n",
    "#     number = int(input())\n",
    "#     numbers.append(number)\n",
    "\n",
    "# series = pd.Series(numbers)\n",
    "# series_dropped = series.drop_duplicates()\n",
    "# print(series_dropped)"
   ]
  },
  {
   "cell_type": "code",
   "execution_count": null,
   "id": "a504832e",
   "metadata": {},
   "outputs": [],
   "source": []
  }
 ],
 "metadata": {
  "kernelspec": {
   "display_name": "Python 3 (ipykernel)",
   "language": "python",
   "name": "python3"
  },
  "language_info": {
   "codemirror_mode": {
    "name": "ipython",
    "version": 3
   },
   "file_extension": ".py",
   "mimetype": "text/x-python",
   "name": "python",
   "nbconvert_exporter": "python",
   "pygments_lexer": "ipython3",
   "version": "3.9.13"
  }
 },
 "nbformat": 4,
 "nbformat_minor": 5
}

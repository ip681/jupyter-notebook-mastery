{
 "cells": [
  {
   "cell_type": "code",
   "execution_count": 1,
   "id": "f87ad27b",
   "metadata": {},
   "outputs": [],
   "source": [
    "# import streamlit as st\n",
    "\n",
    "# # Заглавие\n",
    "# st.title(\"Примерен Streamlit код\")\n",
    "\n",
    "# # Текст\n",
    "# st.write(\"Този код е пример за това как да използвате Streamlit в Jupyter Notebook.\")\n",
    "\n",
    "# # Плъзгач\n",
    "# age = st.slider(\"Възраст:\", 1, 100, 25)\n",
    "\n",
    "# # Текст с променлива\n",
    "# st.write(\"Вашата възраст е:\", age)\n",
    "\n",
    "# # Бутон\n",
    "# if st.button(\"Натиснете бутона\"):\n",
    "#     st.write(\"Натиснахте бутона!\")\n",
    "\n",
    "# # Графика\n",
    "# import matplotlib.pyplot as plt\n",
    "\n",
    "# x = [1, 2, 3, 4, 5]\n",
    "# y = [2, 4, 6, 8, 10]\n",
    "\n",
    "# plt.plot(x, y)\n",
    "# plt.xlabel(\"x\")\n",
    "# plt.ylabel(\"y\")\n",
    "\n",
    "# st.pyplot(plt)"
   ]
  },
  {
   "cell_type": "code",
   "execution_count": 2,
   "id": "04b4c3e2",
   "metadata": {},
   "outputs": [
    {
     "name": "stdout",
     "output_type": "stream",
     "text": [
      "**Версия на Python:** 3.9.18 (main, Sep 11 2023, 14:09:26) [MSC v.1916 64 bit (AMD64)]\n",
      "**Версия на платформата:** Windows-10-10.0.19045-SP0\n",
      "**Версия на Streamlit:** 1.31.0\n"
     ]
    }
   ],
   "source": [
    "import sys\n",
    "import platform\n",
    "import streamlit as st\n",
    "\n",
    "# Версия на Python\n",
    "python_version = sys.version\n",
    "\n",
    "# Версия на платформата\n",
    "platform_version = platform.platform()\n",
    "\n",
    "# Версия на Streamlit\n",
    "streamlit_version = st.__version__\n",
    "\n",
    "# Печат на информацията\n",
    "print(\"**Версия на Python:**\", python_version)\n",
    "print(\"**Версия на платформата:**\", platform_version)\n",
    "print(\"**Версия на Streamlit:**\", streamlit_version)"
   ]
  },
  {
   "cell_type": "code",
   "execution_count": null,
   "id": "c4178c38",
   "metadata": {},
   "outputs": [],
   "source": []
  }
 ],
 "metadata": {
  "kernelspec": {
   "display_name": "Python 3 (ipykernel)",
   "language": "python",
   "name": "python3"
  },
  "language_info": {
   "codemirror_mode": {
    "name": "ipython",
    "version": 3
   },
   "file_extension": ".py",
   "mimetype": "text/x-python",
   "name": "python",
   "nbconvert_exporter": "python",
   "pygments_lexer": "ipython3",
   "version": "3.9.18"
  }
 },
 "nbformat": 4,
 "nbformat_minor": 5
}

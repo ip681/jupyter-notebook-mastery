{
 "cells": [
  {
   "cell_type": "code",
   "execution_count": 1,
   "id": "c9d8a04f",
   "metadata": {},
   "outputs": [],
   "source": [
    "import numpy as np"
   ]
  },
  {
   "cell_type": "markdown",
   "id": "3976fd3f",
   "metadata": {},
   "source": [
    "### 1.\tNull Array\n",
    "Write a program using NumPy that: <br>\n",
    "•\tRead as input an integer N <br>\n",
    "•\tPrint a null array (consisting of zeros only) of length N <br>"
   ]
  },
  {
   "cell_type": "code",
   "execution_count": 2,
   "id": "4177d494",
   "metadata": {},
   "outputs": [],
   "source": [
    "# n = int(input()) \n",
    "# array = np.zeros(n)\n",
    "# print(array)"
   ]
  },
  {
   "cell_type": "markdown",
   "id": "a055076d",
   "metadata": {},
   "source": [
    "### 2.\tConsecutive Array\n",
    "Write a program using NumPy that: <br>\n",
    "•\tRead as input two integers – start number and end number <br>\n",
    "•\tPrint an array ranging from start number to end number inclusive <br>\n"
   ]
  },
  {
   "cell_type": "code",
   "execution_count": 3,
   "id": "ce0e1c90",
   "metadata": {},
   "outputs": [],
   "source": [
    "# start_number = int(input(\"Enter the start number: \"))\n",
    "# end_number = int(input(\"Enter the end number: \"))\n",
    "\n",
    "# array = np.arange(start_number, end_number + 1)\n",
    "# print(array)"
   ]
  },
  {
   "cell_type": "markdown",
   "id": "2b2bfc9f",
   "metadata": {},
   "source": [
    "### 3.\tIdentity Matrix\n",
    "Write a program using NumPy that: <br>\n",
    "•\tRead an integer number N  <br>\n",
    "•\tPrint an identity matrix of size N <br>\n"
   ]
  },
  {
   "cell_type": "code",
   "execution_count": 4,
   "id": "e0e17240",
   "metadata": {},
   "outputs": [],
   "source": [
    "# n = int(input(\"Enter the size of the identity matrix: \"))\n",
    "\n",
    "# identity_matrix = np.eye(n)  # Create the identity matrix\n",
    "# print(identity_matrix)"
   ]
  },
  {
   "cell_type": "markdown",
   "id": "def2db78",
   "metadata": {},
   "source": [
    "### 4.\tEvenly Spaced Array\n",
    "Write a program using NumPy that: <br>\n",
    "•\tRead  three integers – start, stop, and N <br>\n",
    "•\tPrints an array of N with evenly spaced numbers between start and stop <br>\n"
   ]
  },
  {
   "cell_type": "code",
   "execution_count": 5,
   "id": "ee5ea2d5",
   "metadata": {},
   "outputs": [],
   "source": [
    "# start_number = int(input(\"Enter the start number: \"))\n",
    "# stop_number = int(input(\"Enter the stop number: \"))\n",
    "# number_of_values = int(input(\"Enter the number of desired values: \"))\n",
    "\n",
    "# array = np.linspace(start_number, stop_number, number_of_values)\n",
    "# print(array)"
   ]
  },
  {
   "cell_type": "code",
   "execution_count": null,
   "id": "d71afe85",
   "metadata": {},
   "outputs": [],
   "source": []
  }
 ],
 "metadata": {
  "kernelspec": {
   "display_name": "Python 3 (ipykernel)",
   "language": "python",
   "name": "python3"
  },
  "language_info": {
   "codemirror_mode": {
    "name": "ipython",
    "version": 3
   },
   "file_extension": ".py",
   "mimetype": "text/x-python",
   "name": "python",
   "nbconvert_exporter": "python",
   "pygments_lexer": "ipython3",
   "version": "3.9.18"
  }
 },
 "nbformat": 4,
 "nbformat_minor": 5
}

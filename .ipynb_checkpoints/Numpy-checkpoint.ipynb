{
 "cells": [
  {
   "cell_type": "code",
   "execution_count": 1,
   "id": "d51e6b40",
   "metadata": {},
   "outputs": [],
   "source": [
    "%matplotlib inline"
   ]
  },
  {
   "cell_type": "code",
   "execution_count": 2,
   "id": "22f891ed",
   "metadata": {},
   "outputs": [],
   "source": [
    "import numpy as np\n",
    "import matplotlib.pyplot as plt\n",
    "import sys"
   ]
  },
  {
   "cell_type": "markdown",
   "id": "11543aaf",
   "metadata": {},
   "source": [
    "# The basics\n",
    "Създаване на масив от списък (едномерен и двумерен)"
   ]
  },
  {
   "cell_type": "code",
   "execution_count": 3,
   "id": "fb6d3a86",
   "metadata": {},
   "outputs": [
    {
     "name": "stdout",
     "output_type": "stream",
     "text": [
      "[1 2 3 4]\n"
     ]
    }
   ],
   "source": [
    "oned_array = np.array([1, 2, 3, 4], dtype='int64')\n",
    "print(oned_array)"
   ]
  },
  {
   "cell_type": "code",
   "execution_count": 4,
   "id": "a283b610",
   "metadata": {},
   "outputs": [
    {
     "data": {
      "text/plain": [
       "array([[3, 4, 5],\n",
       "       [9, 8, 7]])"
      ]
     },
     "execution_count": 4,
     "metadata": {},
     "output_type": "execute_result"
    }
   ],
   "source": [
    "twod_array = np.array([[3, 4, 5],\n",
    "                      [9, 8, 7]])\n",
    "twod_array"
   ]
  },
  {
   "cell_type": "code",
   "execution_count": 5,
   "id": "398dc694",
   "metadata": {},
   "outputs": [
    {
     "data": {
      "text/plain": [
       "1"
      ]
     },
     "execution_count": 5,
     "metadata": {},
     "output_type": "execute_result"
    }
   ],
   "source": [
    "oned_array.ndim"
   ]
  },
  {
   "cell_type": "code",
   "execution_count": 6,
   "id": "5ddfe0e0",
   "metadata": {},
   "outputs": [
    {
     "data": {
      "text/plain": [
       "2"
      ]
     },
     "execution_count": 6,
     "metadata": {},
     "output_type": "execute_result"
    }
   ],
   "source": [
    "twod_array.ndim"
   ]
  },
  {
   "cell_type": "code",
   "execution_count": 7,
   "id": "6154a001",
   "metadata": {},
   "outputs": [
    {
     "data": {
      "text/plain": [
       "array([1, 2, 3, 4], dtype=int64)"
      ]
     },
     "execution_count": 7,
     "metadata": {},
     "output_type": "execute_result"
    }
   ],
   "source": [
    "oned_array"
   ]
  },
  {
   "cell_type": "code",
   "execution_count": 8,
   "id": "d2e7dca4",
   "metadata": {},
   "outputs": [
    {
     "data": {
      "text/plain": [
       "(4,)"
      ]
     },
     "execution_count": 8,
     "metadata": {},
     "output_type": "execute_result"
    }
   ],
   "source": [
    "oned_array.shape"
   ]
  },
  {
   "cell_type": "code",
   "execution_count": 9,
   "id": "4dd050fb",
   "metadata": {},
   "outputs": [
    {
     "data": {
      "text/plain": [
       "array([[3, 4, 5],\n",
       "       [9, 8, 7]])"
      ]
     },
     "execution_count": 9,
     "metadata": {},
     "output_type": "execute_result"
    }
   ],
   "source": [
    "twod_array"
   ]
  },
  {
   "cell_type": "code",
   "execution_count": 10,
   "id": "6d4e25dc",
   "metadata": {},
   "outputs": [
    {
     "data": {
      "text/plain": [
       "(2, 3)"
      ]
     },
     "execution_count": 10,
     "metadata": {},
     "output_type": "execute_result"
    }
   ],
   "source": [
    "twod_array.shape"
   ]
  },
  {
   "cell_type": "code",
   "execution_count": 11,
   "id": "f49929c8",
   "metadata": {},
   "outputs": [
    {
     "data": {
      "text/plain": [
       "dtype('int64')"
      ]
     },
     "execution_count": 11,
     "metadata": {},
     "output_type": "execute_result"
    }
   ],
   "source": [
    "oned_array.dtype"
   ]
  },
  {
   "cell_type": "code",
   "execution_count": 12,
   "id": "796f9ebc",
   "metadata": {},
   "outputs": [
    {
     "data": {
      "text/plain": [
       "8"
      ]
     },
     "execution_count": 12,
     "metadata": {},
     "output_type": "execute_result"
    }
   ],
   "source": [
    "# Връща размера в битове\n",
    "oned_array.itemsize"
   ]
  },
  {
   "cell_type": "code",
   "execution_count": 13,
   "id": "8ab97332",
   "metadata": {},
   "outputs": [
    {
     "data": {
      "text/plain": [
       "32"
      ]
     },
     "execution_count": 13,
     "metadata": {},
     "output_type": "execute_result"
    }
   ],
   "source": [
    "# returns the size of the whole array in bytes\n",
    "oned_array.nbytes"
   ]
  },
  {
   "cell_type": "code",
   "execution_count": 14,
   "id": "d2d00e0a",
   "metadata": {},
   "outputs": [
    {
     "data": {
      "text/plain": [
       "4"
      ]
     },
     "execution_count": 14,
     "metadata": {},
     "output_type": "execute_result"
    }
   ],
   "source": [
    "# връща размерност\n",
    "oned_array.size"
   ]
  },
  {
   "cell_type": "markdown",
   "id": "c6790339",
   "metadata": {},
   "source": [
    "# Accesing arrays\n",
    "Достъпване на масиви "
   ]
  },
  {
   "cell_type": "code",
   "execution_count": 15,
   "id": "5c136fe3",
   "metadata": {},
   "outputs": [],
   "source": [
    "arr = np.array([2, 7, 9, 4, 4, 6])"
   ]
  },
  {
   "cell_type": "code",
   "execution_count": 16,
   "id": "207ac473",
   "metadata": {},
   "outputs": [
    {
     "data": {
      "text/plain": [
       "array([7, 4])"
      ]
     },
     "execution_count": 16,
     "metadata": {},
     "output_type": "execute_result"
    }
   ],
   "source": [
    "# Можем да слайсваме [start:stop:step]\n",
    "arr[1:4:2]"
   ]
  },
  {
   "cell_type": "code",
   "execution_count": 17,
   "id": "59b6ddb3",
   "metadata": {},
   "outputs": [
    {
     "data": {
      "text/plain": [
       "array([7, 9])"
      ]
     },
     "execution_count": 17,
     "metadata": {},
     "output_type": "execute_result"
    }
   ],
   "source": [
    "arr[1:3]"
   ]
  },
  {
   "cell_type": "code",
   "execution_count": 18,
   "id": "99d1cd21",
   "metadata": {},
   "outputs": [],
   "source": [
    "multidim_array = np.array([[12, 31, 24, 52, 98],\n",
    "                         [34, 1, 23, 87, 76]])"
   ]
  },
  {
   "cell_type": "code",
   "execution_count": 19,
   "id": "99a79994",
   "metadata": {},
   "outputs": [
    {
     "data": {
      "text/plain": [
       "(2, 5)"
      ]
     },
     "execution_count": 19,
     "metadata": {},
     "output_type": "execute_result"
    }
   ],
   "source": [
    "multidim_array.shape"
   ]
  },
  {
   "cell_type": "code",
   "execution_count": 20,
   "id": "03a4818a",
   "metadata": {},
   "outputs": [
    {
     "data": {
      "text/plain": [
       "(2, 5)"
      ]
     },
     "execution_count": 20,
     "metadata": {},
     "output_type": "execute_result"
    }
   ],
   "source": [
    "multidim_array.shape"
   ]
  },
  {
   "cell_type": "code",
   "execution_count": 21,
   "id": "2f8672d3",
   "metadata": {},
   "outputs": [
    {
     "data": {
      "text/plain": [
       "76"
      ]
     },
     "execution_count": 21,
     "metadata": {},
     "output_type": "execute_result"
    }
   ],
   "source": [
    "#array[row,col] достъшпваме първи ред, четвърти елемент\n",
    "multidim_array[1, 4]"
   ]
  },
  {
   "cell_type": "code",
   "execution_count": 22,
   "id": "e2aeb5ce",
   "metadata": {},
   "outputs": [
    {
     "data": {
      "text/plain": [
       "array([24, 23])"
      ]
     },
     "execution_count": 22,
     "metadata": {},
     "output_type": "execute_result"
    }
   ],
   "source": [
    "# Достъпване на цял ред\n",
    "multidim_array[:, 2]"
   ]
  },
  {
   "cell_type": "code",
   "execution_count": 66,
   "id": "2e9a89e4",
   "metadata": {},
   "outputs": [
    {
     "data": {
      "text/plain": [
       "array([34,  1, 23, 87, 76])"
      ]
     },
     "execution_count": 66,
     "metadata": {},
     "output_type": "execute_result"
    }
   ],
   "source": [
    "# Достъпване на цяла колона\n",
    "multidim_array[1, :]"
   ]
  },
  {
   "cell_type": "markdown",
   "id": "e17479d1",
   "metadata": {},
   "source": [
    "# Инициализиране на различни видове масиви\n",
    "Масиви, запълнени с нули, еденици или друго зададено число"
   ]
  },
  {
   "cell_type": "code",
   "execution_count": 24,
   "id": "09f84657",
   "metadata": {},
   "outputs": [
    {
     "data": {
      "text/plain": [
       "array([0., 0., 0., 0.])"
      ]
     },
     "execution_count": 24,
     "metadata": {},
     "output_type": "execute_result"
    }
   ],
   "source": [
    "np.zeros(4)"
   ]
  },
  {
   "cell_type": "code",
   "execution_count": 25,
   "id": "907cd246",
   "metadata": {},
   "outputs": [
    {
     "data": {
      "text/plain": [
       "array([[0., 0., 0.],\n",
       "       [0., 0., 0.]])"
      ]
     },
     "execution_count": 25,
     "metadata": {},
     "output_type": "execute_result"
    }
   ],
   "source": [
    "np.zeros((2, 3))"
   ]
  },
  {
   "cell_type": "code",
   "execution_count": 26,
   "id": "3701f505",
   "metadata": {},
   "outputs": [
    {
     "data": {
      "text/plain": [
       "array([[[1., 1., 1., 1., 1.],\n",
       "        [1., 1., 1., 1., 1.]],\n",
       "\n",
       "       [[1., 1., 1., 1., 1.],\n",
       "        [1., 1., 1., 1., 1.]],\n",
       "\n",
       "       [[1., 1., 1., 1., 1.],\n",
       "        [1., 1., 1., 1., 1.]]])"
      ]
     },
     "execution_count": 26,
     "metadata": {},
     "output_type": "execute_result"
    }
   ],
   "source": [
    "np.ones((3, 2, 5))"
   ]
  },
  {
   "cell_type": "code",
   "execution_count": 27,
   "id": "747d2fa4",
   "metadata": {},
   "outputs": [
    {
     "data": {
      "text/plain": [
       "array([[100, 100],\n",
       "       [100, 100]])"
      ]
     },
     "execution_count": 27,
     "metadata": {},
     "output_type": "execute_result"
    }
   ],
   "source": [
    "np.full((2, 2), 100)"
   ]
  },
  {
   "cell_type": "code",
   "execution_count": 28,
   "id": "d6f98835",
   "metadata": {},
   "outputs": [
    {
     "data": {
      "text/plain": [
       "array([[100, 100, 100, 100, 100],\n",
       "       [100, 100, 100, 100, 100]])"
      ]
     },
     "execution_count": 28,
     "metadata": {},
     "output_type": "execute_result"
    }
   ],
   "source": [
    "np.full_like(multidim_array, 100)"
   ]
  },
  {
   "cell_type": "markdown",
   "id": "d32e1dcd",
   "metadata": {},
   "source": [
    "Запълване със случайни числа в диапазон от съответния тип"
   ]
  },
  {
   "cell_type": "code",
   "execution_count": 71,
   "id": "ee7d3a20",
   "metadata": {},
   "outputs": [
    {
     "data": {
      "text/plain": [
       "array([-1.00908534, -1.58329421,  0.77370042, -0.53814166, -1.3466781 ,\n",
       "       -0.88059127, -1.1305523 ,  0.13442888,  0.58212279,  0.88774846])"
      ]
     },
     "execution_count": 71,
     "metadata": {},
     "output_type": "execute_result"
    }
   ],
   "source": [
    "#положителни и отрицателни\n",
    "np.random.randn(10)"
   ]
  },
  {
   "cell_type": "code",
   "execution_count": 73,
   "id": "d875c794",
   "metadata": {},
   "outputs": [
    {
     "data": {
      "text/plain": [
       "array([0.32518332, 0.72960618, 0.63755747, 0.88721274, 0.47221493,\n",
       "       0.11959425, 0.71324479, 0.76078505, 0.5612772 , 0.77096718])"
      ]
     },
     "execution_count": 73,
     "metadata": {},
     "output_type": "execute_result"
    }
   ],
   "source": [
    "# Само положителни\n",
    "np.random.rand(10)"
   ]
  },
  {
   "cell_type": "code",
   "execution_count": 82,
   "id": "f36577aa",
   "metadata": {},
   "outputs": [
    {
     "data": {
      "text/plain": [
       "88"
      ]
     },
     "execution_count": 82,
     "metadata": {},
     "output_type": "execute_result"
    }
   ],
   "source": [
    "# Запомня генерираната стойност под определен номер и може да я възобнови (reproducibility)\n",
    "np.random.seed(42)\n",
    "np.random.randint(50, 100)"
   ]
  },
  {
   "cell_type": "code",
   "execution_count": 84,
   "id": "4b846c05",
   "metadata": {},
   "outputs": [
    {
     "data": {
      "text/plain": [
       "array([[60, 73, 85],\n",
       "       [89, 73, 52],\n",
       "       [71, 51, 73]])"
      ]
     },
     "execution_count": 84,
     "metadata": {},
     "output_type": "execute_result"
    }
   ],
   "source": [
    "# генериране на масив от цели числа\n",
    "np.random.randint(50, 100, size=(3, 3))"
   ]
  },
  {
   "cell_type": "code",
   "execution_count": 85,
   "id": "44afc7a3",
   "metadata": {},
   "outputs": [
    {
     "data": {
      "text/plain": [
       "array([[1., 0., 0.],\n",
       "       [0., 1., 0.],\n",
       "       [0., 0., 1.]])"
      ]
     },
     "execution_count": 85,
     "metadata": {},
     "output_type": "execute_result"
    }
   ],
   "source": [
    "# ,атрица с единици по главния диагонал\n",
    "np.eye(3)"
   ]
  },
  {
   "cell_type": "markdown",
   "id": "1ae023af",
   "metadata": {},
   "source": [
    "# Maths"
   ]
  },
  {
   "cell_type": "code",
   "execution_count": 34,
   "id": "3ba891b4",
   "metadata": {},
   "outputs": [],
   "source": [
    "my_arr = np.array([2, 3, 8, 12, 0])"
   ]
  },
  {
   "cell_type": "code",
   "execution_count": 35,
   "id": "1afb9ffd",
   "metadata": {},
   "outputs": [
    {
     "data": {
      "text/plain": [
       "array([ 4,  5, 10, 14,  2])"
      ]
     },
     "execution_count": 35,
     "metadata": {},
     "output_type": "execute_result"
    }
   ],
   "source": [
    "my_arr + 2"
   ]
  },
  {
   "cell_type": "code",
   "execution_count": 36,
   "id": "9805a747",
   "metadata": {},
   "outputs": [
    {
     "data": {
      "text/plain": [
       "array([ 0,  1,  6, 10, -2])"
      ]
     },
     "execution_count": 36,
     "metadata": {},
     "output_type": "execute_result"
    }
   ],
   "source": [
    "my_arr - 2"
   ]
  },
  {
   "cell_type": "code",
   "execution_count": 37,
   "id": "06d049dc",
   "metadata": {},
   "outputs": [
    {
     "data": {
      "text/plain": [
       "array([1. , 1.5, 4. , 6. , 0. ])"
      ]
     },
     "execution_count": 37,
     "metadata": {},
     "output_type": "execute_result"
    }
   ],
   "source": [
    "my_arr / 2"
   ]
  },
  {
   "cell_type": "code",
   "execution_count": 38,
   "id": "e3b0cbcb",
   "metadata": {},
   "outputs": [
    {
     "data": {
      "text/plain": [
       "array([ 4,  6, 16, 24,  0])"
      ]
     },
     "execution_count": 38,
     "metadata": {},
     "output_type": "execute_result"
    }
   ],
   "source": [
    "my_arr * 2"
   ]
  },
  {
   "cell_type": "code",
   "execution_count": 39,
   "id": "3f987ddf",
   "metadata": {},
   "outputs": [
    {
     "data": {
      "text/plain": [
       "array([  4,   9,  64, 144,   0], dtype=int32)"
      ]
     },
     "execution_count": 39,
     "metadata": {},
     "output_type": "execute_result"
    }
   ],
   "source": [
    "my_arr ** 2"
   ]
  },
  {
   "cell_type": "code",
   "execution_count": 40,
   "id": "e8548e8d",
   "metadata": {},
   "outputs": [],
   "source": [
    "your_arr = np.array([4, 3, -1, 9, 12])"
   ]
  },
  {
   "cell_type": "code",
   "execution_count": 41,
   "id": "8e7e65e0",
   "metadata": {},
   "outputs": [
    {
     "data": {
      "text/plain": [
       "array([ 2,  3,  8, 12,  0])"
      ]
     },
     "execution_count": 41,
     "metadata": {},
     "output_type": "execute_result"
    }
   ],
   "source": [
    "my_arr"
   ]
  },
  {
   "cell_type": "code",
   "execution_count": 42,
   "id": "627bc008",
   "metadata": {},
   "outputs": [
    {
     "data": {
      "text/plain": [
       "array([ 6,  6,  7, 21, 12])"
      ]
     },
     "execution_count": 42,
     "metadata": {},
     "output_type": "execute_result"
    }
   ],
   "source": [
    "my_arr + your_arr"
   ]
  },
  {
   "cell_type": "code",
   "execution_count": 43,
   "id": "04eda00d",
   "metadata": {},
   "outputs": [
    {
     "data": {
      "text/plain": [
       "array([ -2,   0,   9,   3, -12])"
      ]
     },
     "execution_count": 43,
     "metadata": {},
     "output_type": "execute_result"
    }
   ],
   "source": [
    "my_arr - your_arr"
   ]
  },
  {
   "cell_type": "code",
   "execution_count": 44,
   "id": "7d22fbf0",
   "metadata": {},
   "outputs": [
    {
     "data": {
      "text/plain": [
       "array([  8,   9,  -8, 108,   0])"
      ]
     },
     "execution_count": 44,
     "metadata": {},
     "output_type": "execute_result"
    }
   ],
   "source": [
    "my_arr * your_arr"
   ]
  },
  {
   "cell_type": "code",
   "execution_count": 45,
   "id": "fe263e5f",
   "metadata": {},
   "outputs": [
    {
     "data": {
      "text/plain": [
       "array([ 0.5       ,  1.        , -8.        ,  1.33333333,  0.        ])"
      ]
     },
     "execution_count": 45,
     "metadata": {},
     "output_type": "execute_result"
    }
   ],
   "source": [
    "my_arr / your_arr"
   ]
  },
  {
   "cell_type": "code",
   "execution_count": 46,
   "id": "4c6b1bad",
   "metadata": {},
   "outputs": [
    {
     "data": {
      "text/plain": [
       "array([ 0.90929743,  0.14112001,  0.98935825, -0.53657292,  0.        ])"
      ]
     },
     "execution_count": 46,
     "metadata": {},
     "output_type": "execute_result"
    }
   ],
   "source": [
    "np.sin(my_arr)"
   ]
  },
  {
   "cell_type": "markdown",
   "id": "d6e0f7cb",
   "metadata": {},
   "source": [
    "# Linear algebra"
   ]
  },
  {
   "cell_type": "code",
   "execution_count": 47,
   "id": "8a2e6aa5",
   "metadata": {},
   "outputs": [
    {
     "data": {
      "text/plain": [
       "array([[1., 1., 1.],\n",
       "       [1., 1., 1.]])"
      ]
     },
     "execution_count": 47,
     "metadata": {},
     "output_type": "execute_result"
    }
   ],
   "source": [
    "mat1 = np.ones((2,3))\n",
    "mat1"
   ]
  },
  {
   "cell_type": "code",
   "execution_count": 48,
   "id": "c7c11fdf",
   "metadata": {},
   "outputs": [
    {
     "data": {
      "text/plain": [
       "array([[2, 2],\n",
       "       [2, 2],\n",
       "       [2, 2]])"
      ]
     },
     "execution_count": 48,
     "metadata": {},
     "output_type": "execute_result"
    }
   ],
   "source": [
    "mat2 = np.full((3, 2), 2)\n",
    "mat2"
   ]
  },
  {
   "cell_type": "code",
   "execution_count": 86,
   "id": "9be02a43",
   "metadata": {},
   "outputs": [],
   "source": [
    "# Умножение на матрици"
   ]
  },
  {
   "cell_type": "code",
   "execution_count": 87,
   "id": "f4ae5754",
   "metadata": {},
   "outputs": [
    {
     "data": {
      "text/plain": [
       "array([[6., 6.],\n",
       "       [6., 6.]])"
      ]
     },
     "execution_count": 87,
     "metadata": {},
     "output_type": "execute_result"
    }
   ],
   "source": [
    "np.matmul(mat1, mat2)"
   ]
  },
  {
   "cell_type": "code",
   "execution_count": 88,
   "id": "c7a18f4e",
   "metadata": {},
   "outputs": [
    {
     "data": {
      "text/plain": [
       "-52544.99999999999"
      ]
     },
     "execution_count": 88,
     "metadata": {},
     "output_type": "execute_result"
    }
   ],
   "source": [
    "# Детерминанта\n",
    "np.linalg.det(np.random.randint(2, 100, size=(3,3)))"
   ]
  },
  {
   "cell_type": "markdown",
   "id": "5a5b0028",
   "metadata": {},
   "source": [
    "# Статистика"
   ]
  },
  {
   "cell_type": "code",
   "execution_count": 52,
   "id": "1999aa42",
   "metadata": {},
   "outputs": [],
   "source": [
    "stats = np.array([[1, 2, 3],\n",
    "                  [4, 5, 6]])"
   ]
  },
  {
   "cell_type": "code",
   "execution_count": 53,
   "id": "378334f2",
   "metadata": {},
   "outputs": [
    {
     "data": {
      "text/plain": [
       "1"
      ]
     },
     "execution_count": 53,
     "metadata": {},
     "output_type": "execute_result"
    }
   ],
   "source": [
    "np.min(stats)"
   ]
  },
  {
   "cell_type": "code",
   "execution_count": 89,
   "id": "e0a83fb5",
   "metadata": {},
   "outputs": [
    {
     "data": {
      "text/plain": [
       "array([1, 2, 3])"
      ]
     },
     "execution_count": 89,
     "metadata": {},
     "output_type": "execute_result"
    }
   ],
   "source": [
    "# Минимален елемент по колони\n",
    "np.min(stats, axis=0)"
   ]
  },
  {
   "cell_type": "code",
   "execution_count": 90,
   "id": "17b7324d",
   "metadata": {},
   "outputs": [
    {
     "data": {
      "text/plain": [
       "array([1, 4])"
      ]
     },
     "execution_count": 90,
     "metadata": {},
     "output_type": "execute_result"
    }
   ],
   "source": [
    "# Минимален елемент по редове\n",
    "np.min(stats, axis=1)"
   ]
  },
  {
   "cell_type": "code",
   "execution_count": 56,
   "id": "5e686532",
   "metadata": {},
   "outputs": [
    {
     "data": {
      "text/plain": [
       "6"
      ]
     },
     "execution_count": 56,
     "metadata": {},
     "output_type": "execute_result"
    }
   ],
   "source": [
    "np.max(stats)"
   ]
  },
  {
   "cell_type": "code",
   "execution_count": 57,
   "id": "fe2f33e3",
   "metadata": {},
   "outputs": [
    {
     "data": {
      "text/plain": [
       "array([5, 7, 9])"
      ]
     },
     "execution_count": 57,
     "metadata": {},
     "output_type": "execute_result"
    }
   ],
   "source": [
    "# Сума на елементите по колони\n",
    "np.sum(stats, axis=0)"
   ]
  },
  {
   "cell_type": "code",
   "execution_count": 91,
   "id": "4a9690a9",
   "metadata": {},
   "outputs": [
    {
     "data": {
      "text/plain": [
       "array([ 6, 15])"
      ]
     },
     "execution_count": 91,
     "metadata": {},
     "output_type": "execute_result"
    }
   ],
   "source": [
    "# Сума на елементите по редове\n",
    "np.sum(stats, axis=1)"
   ]
  },
  {
   "cell_type": "markdown",
   "id": "38654903",
   "metadata": {},
   "source": [
    "# Reorganizing arrays"
   ]
  },
  {
   "cell_type": "code",
   "execution_count": 92,
   "id": "fcadef90",
   "metadata": {},
   "outputs": [
    {
     "data": {
      "text/plain": [
       "array([[1, 2, 3, 4],\n",
       "       [5, 6, 7, 8]])"
      ]
     },
     "execution_count": 92,
     "metadata": {},
     "output_type": "execute_result"
    }
   ],
   "source": [
    "old_arr = np.array([[1, 2, 3, 4], \n",
    "                    [5, 6, 7, 8]])\n",
    "old_arr"
   ]
  },
  {
   "cell_type": "code",
   "execution_count": 96,
   "id": "92bcfc2c",
   "metadata": {},
   "outputs": [
    {
     "data": {
      "text/plain": [
       "array([[1, 2, 3, 4, 5, 6, 7, 8]])"
      ]
     },
     "execution_count": 96,
     "metadata": {},
     "output_type": "execute_result"
    }
   ],
   "source": [
    "old_arr.reshape((1, 8))"
   ]
  },
  {
   "cell_type": "code",
   "execution_count": 97,
   "id": "4cb0beed",
   "metadata": {},
   "outputs": [
    {
     "data": {
      "text/plain": [
       "array([[1],\n",
       "       [2],\n",
       "       [3],\n",
       "       [4],\n",
       "       [5],\n",
       "       [6],\n",
       "       [7],\n",
       "       [8]])"
      ]
     },
     "execution_count": 97,
     "metadata": {},
     "output_type": "execute_result"
    }
   ],
   "source": [
    "old_arr.reshape((8, 1))"
   ]
  },
  {
   "cell_type": "code",
   "execution_count": 62,
   "id": "ebefcb80",
   "metadata": {},
   "outputs": [
    {
     "data": {
      "text/plain": [
       "array([[1, 2],\n",
       "       [3, 4],\n",
       "       [5, 6],\n",
       "       [7, 8]])"
      ]
     },
     "execution_count": 62,
     "metadata": {},
     "output_type": "execute_result"
    }
   ],
   "source": [
    "old_arr.reshape((4, 2))"
   ]
  },
  {
   "cell_type": "code",
   "execution_count": 63,
   "id": "8a3f1eba",
   "metadata": {},
   "outputs": [
    {
     "data": {
      "text/plain": [
       "array([[1, 2, 3, 4],\n",
       "       [5, 6, 7, 8]])"
      ]
     },
     "execution_count": 63,
     "metadata": {},
     "output_type": "execute_result"
    }
   ],
   "source": [
    "old_arr.reshape((2, 4))"
   ]
  },
  {
   "cell_type": "code",
   "execution_count": 99,
   "id": "41560547",
   "metadata": {},
   "outputs": [
    {
     "data": {
      "text/plain": [
       "array([[1, 2],\n",
       "       [3, 4],\n",
       "       [5, 6],\n",
       "       [7, 8]])"
      ]
     },
     "execution_count": 99,
     "metadata": {},
     "output_type": "execute_result"
    }
   ],
   "source": [
    "# -1 ползваме, когато не знаем точния брой.\n",
    "old_arr.reshape((4, -1))"
   ]
  },
  {
   "cell_type": "markdown",
   "id": "508c4286",
   "metadata": {},
   "source": [
    "Долепяне на масиви"
   ]
  },
  {
   "cell_type": "code",
   "execution_count": 65,
   "id": "b02c1ed3",
   "metadata": {},
   "outputs": [
    {
     "data": {
      "text/plain": [
       "array([[1, 2, 3, 4],\n",
       "       [5, 6, 7, 8]])"
      ]
     },
     "execution_count": 65,
     "metadata": {},
     "output_type": "execute_result"
    }
   ],
   "source": [
    "arr1 = np.array([1, 2, 3, 4])\n",
    "arr2 = np.array([5, 6, 7, 8])\n",
    "\n",
    "np.vstack([arr1, arr2])"
   ]
  },
  {
   "cell_type": "code",
   "execution_count": null,
   "id": "c9f35768",
   "metadata": {},
   "outputs": [],
   "source": []
  }
 ],
 "metadata": {
  "kernelspec": {
   "display_name": "Python 3 (ipykernel)",
   "language": "python",
   "name": "python3"
  },
  "language_info": {
   "codemirror_mode": {
    "name": "ipython",
    "version": 3
   },
   "file_extension": ".py",
   "mimetype": "text/x-python",
   "name": "python",
   "nbconvert_exporter": "python",
   "pygments_lexer": "ipython3",
   "version": "3.9.13"
  }
 },
 "nbformat": 4,
 "nbformat_minor": 5
}
